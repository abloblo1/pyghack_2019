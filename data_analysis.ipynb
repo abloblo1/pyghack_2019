{
 "cells": [
  {
   "cell_type": "code",
   "execution_count": 144,
   "metadata": {},
   "outputs": [],
   "source": [
    "import pandas as pd\n",
    "import matplotlib.pyplot as plt\n"
   ]
  },
  {
   "cell_type": "code",
   "execution_count": 145,
   "metadata": {},
   "outputs": [],
   "source": [
    "df = pd.read_csv(\"data_sets/ticket_sales_by_showing.csv\")\n"
   ]
  },
  {
   "cell_type": "code",
   "execution_count": 146,
   "metadata": {},
   "outputs": [
    {
     "data": {
      "text/html": [
       "<div>\n",
       "<style scoped>\n",
       "    .dataframe tbody tr th:only-of-type {\n",
       "        vertical-align: middle;\n",
       "    }\n",
       "\n",
       "    .dataframe tbody tr th {\n",
       "        vertical-align: top;\n",
       "    }\n",
       "\n",
       "    .dataframe thead th {\n",
       "        text-align: right;\n",
       "    }\n",
       "</style>\n",
       "<table border=\"1\" class=\"dataframe\">\n",
       "  <thead>\n",
       "    <tr style=\"text-align: right;\">\n",
       "      <th></th>\n",
       "      <th>Folder</th>\n",
       "      <th>EventName</th>\n",
       "      <th>InternalEventName</th>\n",
       "      <th>EventDate</th>\n",
       "      <th>TicketType</th>\n",
       "      <th>Quantity</th>\n",
       "      <th>ItemPrice</th>\n",
       "      <th>Price</th>\n",
       "    </tr>\n",
       "  </thead>\n",
       "  <tbody>\n",
       "    <tr>\n",
       "      <th>0</th>\n",
       "      <td>0 - Features</td>\n",
       "      <td>A Fantastic Woman</td>\n",
       "      <td>A Fantastic Woman</td>\n",
       "      <td>Mar 16, 2018 5:00:00 PM</td>\n",
       "      <td>Adult</td>\n",
       "      <td>6</td>\n",
       "      <td>8.75</td>\n",
       "      <td>52.50</td>\n",
       "    </tr>\n",
       "    <tr>\n",
       "      <th>1</th>\n",
       "      <td>0 - Features</td>\n",
       "      <td>A Fantastic Woman</td>\n",
       "      <td>A Fantastic Woman</td>\n",
       "      <td>Mar 16, 2018 5:00:00 PM</td>\n",
       "      <td>Member</td>\n",
       "      <td>1</td>\n",
       "      <td>0.00</td>\n",
       "      <td>0</td>\n",
       "    </tr>\n",
       "    <tr>\n",
       "      <th>2</th>\n",
       "      <td>0 - Features</td>\n",
       "      <td>A Fantastic Woman</td>\n",
       "      <td>A Fantastic Woman</td>\n",
       "      <td>Mar 16, 2018 5:00:00 PM</td>\n",
       "      <td>Senior Citizen</td>\n",
       "      <td>13</td>\n",
       "      <td>8.00</td>\n",
       "      <td>104</td>\n",
       "    </tr>\n",
       "    <tr>\n",
       "      <th>3</th>\n",
       "      <td>0 - Features</td>\n",
       "      <td>A Fantastic Woman</td>\n",
       "      <td>A Fantastic Woman</td>\n",
       "      <td>Mar 16, 2018 5:00:00 PM</td>\n",
       "      <td>Student</td>\n",
       "      <td>3</td>\n",
       "      <td>8.00</td>\n",
       "      <td>24</td>\n",
       "    </tr>\n",
       "    <tr>\n",
       "      <th>4</th>\n",
       "      <td>0 - Features</td>\n",
       "      <td>A Fantastic Woman</td>\n",
       "      <td>A Fantastic Woman</td>\n",
       "      <td>Mar 16, 2018 7:30:00 PM</td>\n",
       "      <td>Adult</td>\n",
       "      <td>22</td>\n",
       "      <td>10.00</td>\n",
       "      <td>220</td>\n",
       "    </tr>\n",
       "  </tbody>\n",
       "</table>\n",
       "</div>"
      ],
      "text/plain": [
       "         Folder          EventName  InternalEventName  \\\n",
       "0  0 - Features  A Fantastic Woman  A Fantastic Woman   \n",
       "1  0 - Features  A Fantastic Woman  A Fantastic Woman   \n",
       "2  0 - Features  A Fantastic Woman  A Fantastic Woman   \n",
       "3  0 - Features  A Fantastic Woman  A Fantastic Woman   \n",
       "4  0 - Features  A Fantastic Woman  A Fantastic Woman   \n",
       "\n",
       "                 EventDate      TicketType  Quantity  ItemPrice  Price  \n",
       "0  Mar 16, 2018 5:00:00 PM           Adult         6       8.75  52.50  \n",
       "1  Mar 16, 2018 5:00:00 PM          Member         1       0.00      0  \n",
       "2  Mar 16, 2018 5:00:00 PM  Senior Citizen        13       8.00    104  \n",
       "3  Mar 16, 2018 5:00:00 PM         Student         3       8.00     24  \n",
       "4  Mar 16, 2018 7:30:00 PM           Adult        22      10.00    220  "
      ]
     },
     "execution_count": 146,
     "metadata": {},
     "output_type": "execute_result"
    }
   ],
   "source": [
    "df.head()"
   ]
  },
  {
   "cell_type": "code",
   "execution_count": 149,
   "metadata": {},
   "outputs": [
    {
     "data": {
      "text/plain": [
       "'Mar 16, 2018 5:00:00 PM'"
      ]
     },
     "execution_count": 149,
     "metadata": {},
     "output_type": "execute_result"
    }
   ],
   "source": [
    "# change the format of the dates to sort by year, then date, then graph a bar graph\n",
    "# for quantity of tickets sold as Y and month/year as X\n",
    "df['EventDate'][3]"
   ]
  },
  {
   "cell_type": "code",
   "execution_count": 150,
   "metadata": {},
   "outputs": [
    {
     "data": {
      "text/plain": [
       "9564"
      ]
     },
     "execution_count": 150,
     "metadata": {},
     "output_type": "execute_result"
    }
   ],
   "source": [
    "df['EventDate'].size"
   ]
  },
  {
   "cell_type": "code",
   "execution_count": 151,
   "metadata": {},
   "outputs": [
    {
     "name": "stdout",
     "output_type": "stream",
     "text": [
      "Mar 16, 2018 5:00:00 PM\n",
      "hi\n",
      "Mar 16\n",
      "floop\n",
      "123\n"
     ]
    }
   ],
   "source": [
    "# df[df['A'] > 2]['B'] = new_val  # new_val not set in df\n",
    "\n",
    "# df.loc[df['A'] > 2, 'B'] = new_val\n",
    "\n",
    "# df = df[df['A'] > 2]\n",
    "# df['B'] = new_val\n",
    "\n",
    "\n",
    "print(df.loc[3, 'EventDate'])\n",
    "print(\"hi\")\n",
    "print(df['EventDate'][3][0:6])\n",
    "print(\"floop\")\n",
    "df.loc[3, 'EventDate'] = \"123\"\n",
    "print(df.loc[3, 'EventDate'])\n",
    "\n",
    "#df['EventDate'][0]\n",
    "#df['EventDate'][0] = \"ASDAFSDF\"\n",
    "#df['EventDate'][0]"
   ]
  },
  {
   "cell_type": "code",
   "execution_count": 193,
   "metadata": {},
   "outputs": [
    {
     "name": "stdout",
     "output_type": "stream",
     "text": [
      "hi\n",
      "123\n"
     ]
    }
   ],
   "source": [
    "df = pd.read_csv(\"data_sets/ticket_sales_by_showing.csv\")\n",
    "print(\"hi\")\n",
    "i = 0\n",
    "while i < len(df['EventDate']):\n",
    "    # would do [0:6] for date in month also but if its is march 3rd itll be \"mar 3,\"\n",
    "    # df.loc[i, 'EventDate'] = df['EventDate'][i][0:3]\n",
    "    df.loc[i, 'EventDate'] = df['EventDate'][i][0:3]\n",
    "    i += 1\n",
    "    \n",
    "print(\"123\")"
   ]
  },
  {
   "cell_type": "code",
   "execution_count": 163,
   "metadata": {},
   "outputs": [
    {
     "name": "stdout",
     "output_type": "stream",
     "text": [
      "Date:\n",
      " 0       Mar\n",
      "1       Mar\n",
      "2       Mar\n",
      "3       Mar\n",
      "4       Mar\n",
      "5       Mar\n",
      "6       Mar\n",
      "7       Mar\n",
      "8       Mar\n",
      "9       Mar\n",
      "10      Mar\n",
      "11      Mar\n",
      "12      Mar\n",
      "13      Mar\n",
      "14      Mar\n",
      "15      Mar\n",
      "16      Mar\n",
      "17      Mar\n",
      "18      Mar\n",
      "19      Mar\n",
      "20      Mar\n",
      "21      Mar\n",
      "22      Mar\n",
      "23      Mar\n",
      "24      Mar\n",
      "25      Mar\n",
      "26      Mar\n",
      "27      Mar\n",
      "28      Mar\n",
      "29      Mar\n",
      "       ... \n",
      "9534    Oct\n",
      "9535    Oct\n",
      "9536    Oct\n",
      "9537    Oct\n",
      "9538    Oct\n",
      "9539    Oct\n",
      "9540    Oct\n",
      "9541    Oct\n",
      "9542    Oct\n",
      "9543    Oct\n",
      "9544    Oct\n",
      "9545    Oct\n",
      "9546    Oct\n",
      "9547    Oct\n",
      "9548    Oct\n",
      "9549    Oct\n",
      "9550    Oct\n",
      "9551    Oct\n",
      "9552    Oct\n",
      "9553    Oct\n",
      "9554    Oct\n",
      "9555    Oct\n",
      "9556    Oct\n",
      "9557    Oct\n",
      "9558    Oct\n",
      "9559    Oct\n",
      "9560    Oct\n",
      "9561    Oct\n",
      "9562    Oct\n",
      "9563    Oct\n",
      "Name: EventDate, Length: 9564, dtype: object\n"
     ]
    }
   ],
   "source": [
    "print(\"Date:\\n\",df['EventDate'])"
   ]
  },
  {
   "cell_type": "code",
   "execution_count": 154,
   "metadata": {},
   "outputs": [
    {
     "data": {
      "text/html": [
       "<div>\n",
       "<style scoped>\n",
       "    .dataframe tbody tr th:only-of-type {\n",
       "        vertical-align: middle;\n",
       "    }\n",
       "\n",
       "    .dataframe tbody tr th {\n",
       "        vertical-align: top;\n",
       "    }\n",
       "\n",
       "    .dataframe thead th {\n",
       "        text-align: right;\n",
       "    }\n",
       "</style>\n",
       "<table border=\"1\" class=\"dataframe\">\n",
       "  <thead>\n",
       "    <tr style=\"text-align: right;\">\n",
       "      <th></th>\n",
       "      <th>Folder</th>\n",
       "      <th>EventName</th>\n",
       "      <th>InternalEventName</th>\n",
       "      <th>EventDate</th>\n",
       "      <th>TicketType</th>\n",
       "      <th>Quantity</th>\n",
       "      <th>ItemPrice</th>\n",
       "      <th>Price</th>\n",
       "    </tr>\n",
       "  </thead>\n",
       "  <tbody>\n",
       "    <tr>\n",
       "      <th>0</th>\n",
       "      <td>0 - Features</td>\n",
       "      <td>A Fantastic Woman</td>\n",
       "      <td>A Fantastic Woman</td>\n",
       "      <td>Mar</td>\n",
       "      <td>Adult</td>\n",
       "      <td>6</td>\n",
       "      <td>8.75</td>\n",
       "      <td>52.50</td>\n",
       "    </tr>\n",
       "    <tr>\n",
       "      <th>1</th>\n",
       "      <td>0 - Features</td>\n",
       "      <td>A Fantastic Woman</td>\n",
       "      <td>A Fantastic Woman</td>\n",
       "      <td>Mar</td>\n",
       "      <td>Member</td>\n",
       "      <td>1</td>\n",
       "      <td>0.00</td>\n",
       "      <td>0</td>\n",
       "    </tr>\n",
       "    <tr>\n",
       "      <th>2</th>\n",
       "      <td>0 - Features</td>\n",
       "      <td>A Fantastic Woman</td>\n",
       "      <td>A Fantastic Woman</td>\n",
       "      <td>Mar</td>\n",
       "      <td>Senior Citizen</td>\n",
       "      <td>13</td>\n",
       "      <td>8.00</td>\n",
       "      <td>104</td>\n",
       "    </tr>\n",
       "    <tr>\n",
       "      <th>3</th>\n",
       "      <td>0 - Features</td>\n",
       "      <td>A Fantastic Woman</td>\n",
       "      <td>A Fantastic Woman</td>\n",
       "      <td>Mar</td>\n",
       "      <td>Student</td>\n",
       "      <td>3</td>\n",
       "      <td>8.00</td>\n",
       "      <td>24</td>\n",
       "    </tr>\n",
       "    <tr>\n",
       "      <th>4</th>\n",
       "      <td>0 - Features</td>\n",
       "      <td>A Fantastic Woman</td>\n",
       "      <td>A Fantastic Woman</td>\n",
       "      <td>Mar</td>\n",
       "      <td>Adult</td>\n",
       "      <td>22</td>\n",
       "      <td>10.00</td>\n",
       "      <td>220</td>\n",
       "    </tr>\n",
       "  </tbody>\n",
       "</table>\n",
       "</div>"
      ],
      "text/plain": [
       "         Folder          EventName  InternalEventName EventDate  \\\n",
       "0  0 - Features  A Fantastic Woman  A Fantastic Woman       Mar   \n",
       "1  0 - Features  A Fantastic Woman  A Fantastic Woman       Mar   \n",
       "2  0 - Features  A Fantastic Woman  A Fantastic Woman       Mar   \n",
       "3  0 - Features  A Fantastic Woman  A Fantastic Woman       Mar   \n",
       "4  0 - Features  A Fantastic Woman  A Fantastic Woman       Mar   \n",
       "\n",
       "       TicketType  Quantity  ItemPrice  Price  \n",
       "0           Adult         6       8.75  52.50  \n",
       "1          Member         1       0.00      0  \n",
       "2  Senior Citizen        13       8.00    104  \n",
       "3         Student         3       8.00     24  \n",
       "4           Adult        22      10.00    220  "
      ]
     },
     "execution_count": 154,
     "metadata": {},
     "output_type": "execute_result"
    }
   ],
   "source": [
    "df.head()"
   ]
  },
  {
   "cell_type": "code",
   "execution_count": 155,
   "metadata": {},
   "outputs": [
    {
     "name": "stdout",
     "output_type": "stream",
     "text": [
      "1\n",
      "2\n",
      "3\n"
     ]
    },
    {
     "data": {
      "image/png": "[encoded data removed]",
      "text/plain": [
       "<Figure size 432x288 with 1 Axes>"
      ]
     },
     "metadata": {
      "needs_background": "light"
     },
     "output_type": "display_data"
    },
    {
     "name": "stdout",
     "output_type": "stream",
     "text": [
      "4\n"
     ]
    }
   ],
   "source": [
    "print(\"1\")\n",
    "plt.bar(df['EventDate'], df['Quantity'], align='center', alpha=0.5)\n",
    "#plt.xticks(y_pos, objects)\n",
    "print(\"2\")\n",
    "plt.ylabel('Quantity Of Tickets')\n",
    "plt.title('Month Of Year')\n",
    "print(\"3\")\n",
    "plt.show()\n",
    "print(\"4\")"
   ]
  },
  {
   "cell_type": "code",
   "execution_count": 194,
   "metadata": {},
   "outputs": [
    {
     "data": {
      "text/html": [
       "<div>\n",
       "<style scoped>\n",
       "    .dataframe tbody tr th:only-of-type {\n",
       "        vertical-align: middle;\n",
       "    }\n",
       "\n",
       "    .dataframe tbody tr th {\n",
       "        vertical-align: top;\n",
       "    }\n",
       "\n",
       "    .dataframe thead th {\n",
       "        text-align: right;\n",
       "    }\n",
       "</style>\n",
       "<table border=\"1\" class=\"dataframe\">\n",
       "  <thead>\n",
       "    <tr style=\"text-align: right;\">\n",
       "      <th></th>\n",
       "      <th>Folder</th>\n",
       "      <th>EventName</th>\n",
       "      <th>InternalEventName</th>\n",
       "      <th>EventDate</th>\n",
       "      <th>TicketType</th>\n",
       "      <th>Quantity</th>\n",
       "      <th>ItemPrice</th>\n",
       "      <th>Price</th>\n",
       "    </tr>\n",
       "  </thead>\n",
       "  <tbody>\n",
       "    <tr>\n",
       "      <th>2084</th>\n",
       "      <td>0 - Features</td>\n",
       "      <td>If Beale Street Could Talk</td>\n",
       "      <td>If Beale Street Could Talk</td>\n",
       "      <td>Jan</td>\n",
       "      <td>Adult</td>\n",
       "      <td>17</td>\n",
       "      <td>8.75</td>\n",
       "      <td>148.75</td>\n",
       "    </tr>\n",
       "    <tr>\n",
       "      <th>2985</th>\n",
       "      <td>0 - Features</td>\n",
       "      <td>Lion</td>\n",
       "      <td>Lion</td>\n",
       "      <td>Jan</td>\n",
       "      <td>Senior Citizen</td>\n",
       "      <td>27</td>\n",
       "      <td>7.50</td>\n",
       "      <td>202.50</td>\n",
       "    </tr>\n",
       "    <tr>\n",
       "      <th>2984</th>\n",
       "      <td>0 - Features</td>\n",
       "      <td>Lion</td>\n",
       "      <td>Lion</td>\n",
       "      <td>Jan</td>\n",
       "      <td>Adult</td>\n",
       "      <td>17</td>\n",
       "      <td>8.25</td>\n",
       "      <td>140.25</td>\n",
       "    </tr>\n",
       "    <tr>\n",
       "      <th>2983</th>\n",
       "      <td>0 - Features</td>\n",
       "      <td>Lion</td>\n",
       "      <td>Lion</td>\n",
       "      <td>Jan</td>\n",
       "      <td>Senior Citizen</td>\n",
       "      <td>8</td>\n",
       "      <td>7.50</td>\n",
       "      <td>60</td>\n",
       "    </tr>\n",
       "    <tr>\n",
       "      <th>2982</th>\n",
       "      <td>0 - Features</td>\n",
       "      <td>Lion</td>\n",
       "      <td>Lion</td>\n",
       "      <td>Jan</td>\n",
       "      <td>Comp</td>\n",
       "      <td>1</td>\n",
       "      <td>0.00</td>\n",
       "      <td>0</td>\n",
       "    </tr>\n",
       "  </tbody>\n",
       "</table>\n",
       "</div>"
      ],
      "text/plain": [
       "            Folder                   EventName           InternalEventName  \\\n",
       "2084  0 - Features  If Beale Street Could Talk  If Beale Street Could Talk   \n",
       "2985  0 - Features                        Lion                        Lion   \n",
       "2984  0 - Features                        Lion                        Lion   \n",
       "2983  0 - Features                        Lion                        Lion   \n",
       "2982  0 - Features                        Lion                        Lion   \n",
       "\n",
       "     EventDate      TicketType  Quantity  ItemPrice   Price  \n",
       "2084       Jan           Adult        17       8.75  148.75  \n",
       "2985       Jan  Senior Citizen        27       7.50  202.50  \n",
       "2984       Jan           Adult        17       8.25  140.25  \n",
       "2983       Jan  Senior Citizen         8       7.50      60  \n",
       "2982       Jan            Comp         1       0.00       0  "
      ]
     },
     "execution_count": 194,
     "metadata": {},
     "output_type": "execute_result"
    }
   ],
   "source": [
    "months = [\"Jan\", \"Feb\", \"Mar\", \"Apr\", \"May\", \"Jun\", \n",
    "          \"Jul\", \"Aug\", \"Sep\", \"Oct\", \"Nov\", \"Dec\"]\n",
    "df['EventDate'] = pd.Categorical(df['EventDate'], categories=months, ordered=True)\n",
    "\n",
    "df # has 5 columns though I need the column 'date' and 'price'\n",
    "df.sort_values(by='EventDate',inplace=True) #at this part it is sorted according to date, great\n",
    "# total=(df.groupby(df['date'].dt.strftime('%B'))['price'].mean()) # Though now it is not as it was but instead the months appear alphabetically\n",
    "\n",
    "df.head()"
   ]
  },
  {
   "cell_type": "code",
   "execution_count": 183,
   "metadata": {},
   "outputs": [
    {
     "name": "stdout",
     "output_type": "stream",
     "text": [
      "2\n"
     ]
    },
    {
     "data": {
      "image/png": "[encoded data removed]",
      "text/plain": [
       "<Figure size 432x288 with 1 Axes>"
      ]
     },
     "metadata": {
      "needs_background": "light"
     },
     "output_type": "display_data"
    }
   ],
   "source": [
    "plt.bar(df['EventDate'], df['Quantity'])\n",
    "#plt.xticks(y_pos, objects)\n",
    "print(\"2\")\n",
    "plt.ylabel('Quantity Of Tickets')\n",
    "plt.xlabel('Month Of The Year')\n",
    "plt.title('Quantity of Tickets as a function of Month of the Year')\n",
    "plt.show()"
   ]
  },
  {
   "cell_type": "code",
   "execution_count": 195,
   "metadata": {},
   "outputs": [
    {
     "name": "stdout",
     "output_type": "stream",
     "text": [
      "jan:  7417 \n",
      "feb:  10030 \n",
      "mar:  7152 \n",
      "apr:  6921 \n",
      "may:  6732 \n",
      "jun:  8046 \n",
      "jul:  11615 \n",
      "aug:  10110 \n",
      "sep:  7926 \n",
      "oct:  10564 \n",
      "nov:  8053 \n",
      "dec:  8853\n"
     ]
    }
   ],
   "source": [
    "i = 0\n",
    "jan = feb = mar = apr = may = jun = jul = aug = sep = oct1 = nov = dec = 0\n",
    "while i < len(df['EventDate']):\n",
    "    #print(i)\n",
    "    #print(df['EventDate'][i])\n",
    "    #print(df['Quantity'][i])\n",
    "    if df['EventDate'][i] == ('Jan'):\n",
    "        jan += df['Quantity'][i]\n",
    "    elif df['EventDate'][i] == ('Feb'):\n",
    "        feb += df['Quantity'][i]\n",
    "    elif df['EventDate'][i] == ('Mar'):\n",
    "        mar += df['Quantity'][i]\n",
    "    elif df['EventDate'][i] == (\"Apr\"):\n",
    "        apr += df['Quantity'][i]\n",
    "    elif df['EventDate'][i] == (\"May\"):\n",
    "        may += df['Quantity'][i]\n",
    "    elif df['EventDate'][i] == (\"Jun\"):\n",
    "        jun += df['Quantity'][i]\n",
    "    elif df['EventDate'][i] == (\"Jul\"):\n",
    "        jul += df['Quantity'][i]\n",
    "    elif df['EventDate'][i] == (\"Aug\"):\n",
    "        aug += df['Quantity'][i]\n",
    "    elif df['EventDate'][i] == (\"Sep\"):\n",
    "        sep += df['Quantity'][i]\n",
    "    elif df['EventDate'][i] == (\"Oct\"):\n",
    "        oct1 += df['Quantity'][i]\n",
    "    elif df['EventDate'][i] == (\"Nov\"):\n",
    "        nov += df['Quantity'][i]\n",
    "    elif df['EventDate'][i] == (\"Dec\"):\n",
    "        dec += df['Quantity'][i]\n",
    "    i += 1\n",
    "\n",
    "print(\"jan: \", jan,\"\\nfeb: \", feb,\"\\nmar: \", mar,\"\\napr: \", apr,\"\\nmay: \", may,\"\\njun: \", jun,\"\\njul: \", jul,\"\\naug: \", aug,\"\\nsep: \", sep,\"\\noct: \", oct1,\"\\nnov: \", nov, \"\\ndec: \",dec)\n",
    "        \n",
    "\n",
    "    # would do [0:6] for date in month also but if its is march 3rd itll be \"mar 3,\"\n",
    "    # df.loc[i, 'EventDate'] = df['EventDate'][i][0:3]\\"
   ]
  },
  {
   "cell_type": "code",
   "execution_count": 203,
   "metadata": {},
   "outputs": [
    {
     "name": "stdout",
     "output_type": "stream",
     "text": [
      "2\n"
     ]
    },
    {
     "data": {
      "image/png": "[encoded data removed]",
      "text/plain": [
       "<Figure size 432x288 with 1 Axes>"
      ]
     },
     "metadata": {
      "needs_background": "light"
     },
     "output_type": "display_data"
    }
   ],
   "source": [
    "totals = [jan, feb, mar, apr, may, jun, jul, aug, sep, oct1, nov, dec]\n",
    "plt.bar(months, totals)\n",
    "#plt.xticks(y_pos, objects)\n",
    "print(\"2\")\n",
    "plt.ylabel('Quantity Of Tickets')\n",
    "plt.xlabel('Month Of The Year')\n",
    "plt.title('Quantity of Tickets as a function of Month of the Year')\n",
    "plt.savefig('bar_graph.png', bbox_inches='tight')\n",
    "plt.show()\n"
   ]
  },
  {
   "cell_type": "code",
   "execution_count": 186,
   "metadata": {},
   "outputs": [
    {
     "name": "stdout",
     "output_type": "stream",
     "text": [
      "asdf\n",
      "hello\n"
     ]
    }
   ],
   "source": [
    "## Second graph where ticket sales by year\n",
    "df = pd.read_csv(\"data_sets/ticket_sales_by_showing.csv\")\n",
    "print(\"asdf\")\n",
    "i = 0\n",
    "while i < len(df['EventDate']):\n",
    "    # would do [0:6] for date in month also but if its is march 3rd itll be \"mar 3,\"\n",
    "    #df.loc[i, 'EventDate'] = df['EventDate'][i][0:3]\n",
    "    j = 0\n",
    "    while (j < len(df['EventDate'][i])):\n",
    "        if df['EventDate'][i][j:j+1] == ',':\n",
    "            df.loc[i, 'EventDate'] = df['EventDate'][i][j+2:j+6]\n",
    "        else:\n",
    "            j += 1\n",
    "    i += 1\n",
    "print(\"hello\")"
   ]
  },
  {
   "cell_type": "code",
   "execution_count": 188,
   "metadata": {},
   "outputs": [
    {
     "name": "stdout",
     "output_type": "stream",
     "text": [
      "a2015:  0 \n",
      " a2016 16067 \n",
      " a2017 37945 \n",
      " a2018 34542 \n",
      " a2019 14865\n"
     ]
    }
   ],
   "source": [
    "i = 0\n",
    "a2015 = a2016 = a2017 = a2018 = a2019 = 0\n",
    "while i < len(df['EventDate']):\n",
    "    #print(i)\n",
    "    #print(df['EventDate'][i])\n",
    "    #print(df['Quantity'][i])\n",
    "    if df['EventDate'][i] == ('2015'):\n",
    "        a2015 += df['Quantity'][i]\n",
    "    elif df['EventDate'][i] == ('2016'):\n",
    "        a2016 += df['Quantity'][i]\n",
    "    elif df['EventDate'][i] == ('2017'):\n",
    "        a2017 += df['Quantity'][i]\n",
    "    elif df['EventDate'][i] == (\"2018\"):\n",
    "        a2018 += df['Quantity'][i]\n",
    "    elif df['EventDate'][i] == (\"2019\"):\n",
    "        a2019 += df['Quantity'][i]\n",
    "    i += 1\n",
    "\n",
    "print(\"a2015: \",a2015,\"\\n a2016\",a2016, \"\\n a2017\",a2017,\"\\n a2018\",a2018,\"\\n a2019\",a2019)"
   ]
  },
  {
   "cell_type": "code",
   "execution_count": 202,
   "metadata": {},
   "outputs": [
    {
     "name": "stdout",
     "output_type": "stream",
     "text": [
      "2\n"
     ]
    },
    {
     "data": {
      "image/png": "[encoded data removed]",
      "text/plain": [
       "<Figure size 432x288 with 1 Axes>"
      ]
     },
     "metadata": {
      "needs_background": "light"
     },
     "output_type": "display_data"
    }
   ],
   "source": [
    "years = [\"2016\",\"2017\",\"2018\",\"2019\"]\n",
    "totals = [a2016, a2017, a2018, a2019]\n",
    "plt.plot(years, totals)\n",
    "#plt.xticks(y_pos, objects)\n",
    "print(\"2\")\n",
    "plt.ylabel('Quantity Of Tickets')\n",
    "plt.xlabel('Year')\n",
    "plt.title('Quantity of Tickets as a function of Year')\n",
    "plt.savefig('line_graph.png')\n",
    "plt.show()\n"
   ]
  },
  {
   "cell_type": "code",
   "execution_count": null,
   "metadata": {},
   "outputs": [],
   "source": []
  }
 ],
 "metadata": {
  "kernelspec": {
   "display_name": "Python 3",
   "language": "python",
   "name": "python3"
  }
 },
 "nbformat": 4,
 "nbformat_minor": 2
}
